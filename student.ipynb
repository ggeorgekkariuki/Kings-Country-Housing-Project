{
 "cells": [
  {
   "cell_type": "markdown",
   "metadata": {},
   "source": [
    "## Final Project Submission\n",
    "\n",
    "Please fill out:\n",
    "* Student name: \n",
    "* Student pace: self paced / part time / full time\n",
    "* Scheduled project review date/time: \n",
    "* Instructor name: \n",
    "* Blog post URL:\n"
   ]
  },
  {
   "cell_type": "markdown",
   "metadata": {},
   "source": [
    "## Business Understanding\n",
    "\n",
    "One of the key services they provide is advising homeowners on how renovations can potentially increase the value of their homes before listing them on the market. However, the agency faces the challenge of accurately quantifying the impact of various renovation features on the selling price of homes in the county. To address this challenge, the agency seeks to leverage data analysis and regression modeling to provide homeowners with informed recommendations on which renovations are likely to yield the highest returns.\n",
    "\n",
    "### Business Problem: \n",
    "Having the right price for properties is super important for real estate companies. It's not just about making sellers happy by getting them a good deal, but also about making buyers feel like they're getting a fair price. When a company consistently prices properties accurately, it builds trust in the community. People know they can rely on that company because they're transparent and fair.\n",
    "\n",
    "But accurate pricing isn't just about trust—it's also about making more money in the long run. By setting the right prices, a real estate company can make sure that homes aren't undervalued or overvalued. This creates a balanced profit margin, which is good for business growth.\n",
    "\n",
    "So, having accurate prices isn't just a nice thing to have—it's essential for building trust and making sure the business thrives in the long term.\n"
   ]
  },
  {
   "cell_type": "code",
   "execution_count": null,
   "metadata": {},
   "outputs": [],
   "source": [
    "# Your code here - remember to use markdown cells for comments as well!"
   ]
  }
 ],
 "metadata": {
  "kernelspec": {
   "display_name": "Python 3",
   "language": "python",
   "name": "python3"
  },
  "language_info": {
   "codemirror_mode": {
    "name": "ipython",
    "version": 3
   },
   "file_extension": ".py",
   "mimetype": "text/x-python",
   "name": "python",
   "nbconvert_exporter": "python",
   "pygments_lexer": "ipython3",
   "version": "3.6.4"
  }
 },
 "nbformat": 4,
 "nbformat_minor": 2
}
