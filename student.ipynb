{
 "cells": [
  {
   "cell_type": "markdown",
   "metadata": {},
   "source": [
    "## Final Project Submission\n",
    "\n",
    "Please fill out:\n",
    "* Student name: \n",
    "* Student pace: self paced / part time / full time\n",
    "* Scheduled project review date/time: \n",
    "* Instructor name: \n",
    "* Blog post URL:\n"
   ]
  },
  {
   "cell_type": "markdown",
   "metadata": {},
   "source": [
    "## Conclusions:\n",
    "\n",
    "**1.\tModel Performance:** The linear regression model achieved a training score of 84.44% and a test score of 81.02%. These scores indicate that the model explains about 84.44% of the variance in the training data and performs well in predicting house prices, as evidenced by the test score.\n",
    "\n",
    "**2.\tSignificant Features:** Several features have significant coefficients, indicating their importance in predicting house prices. For example, waterfront properties, excellent views, and higher grades significantly increase the house prices, while being located in certain zip codes or having poor conditions can decrease prices.\n",
    "\n",
    "**3.\tAge of the Property:** The age of the property (both built and renovated) has a significant impact on the house prices. Newer properties tend to have higher prices, while older properties may experience a decrease in value unless renovated.\n",
    "\n",
    "**4.\tLocation:** Location plays a crucial role in determining house prices. Certain zip codes have significantly higher coefficients, indicating higher prices in those areas. Buyers should consider the location carefully when making a purchase decision.\n",
    "\n",
    "## Recommendations:\n",
    "\n",
    "**1.\tFocus on Key Features:** Buyers and sellers should pay attention to key features such as waterfront views, property condition, and grade when assessing house prices. These features have significant impacts on the value of the property.\n",
    "\n",
    "**2.\tConsider Location:** Location is a critical factor in determining house prices. Buyers should consider factors such as proximity to amenities when evaluating a property. Sellers should highlight attractive aspects of the property's location in their listings.\n",
    "\n",
    "**3.\tEvaluate Property Age:** Both the age of the property and any renovations should be carefully evaluated. Buyers should inquire about the age of key components such as the roof, system, and appliances. Sellers should consider investing in renovations to increase the value of their property.\n",
    "\n",
    "**4.\tConsider number of floors:** Assess whether properties with more floors tend to command higher sale prices, controlling for other relevant factors property condition. By analyzing the relationship between the number of floors and sale prices comprehensively, we can determine whether adding floors significantly influences home prices in the King County real estate market."
   ]
  },
  {
   "cell_type": "code",
   "execution_count": null,
   "metadata": {},
   "outputs": [],
   "source": []
  },
  {
   "cell_type": "code",
   "execution_count": null,
   "metadata": {},
   "outputs": [],
   "source": []
  }
 ],
 "metadata": {
  "kernelspec": {
   "display_name": "Python 3",
   "language": "python",
   "name": "python3"
  },
  "language_info": {
   "codemirror_mode": {
    "name": "ipython",
    "version": 3
   },
   "file_extension": ".py",
   "mimetype": "text/x-python",
   "name": "python",
   "nbconvert_exporter": "python",
   "pygments_lexer": "ipython3",
   "version": "3.6.4"
  }
 },
 "nbformat": 4,
 "nbformat_minor": 2
}
