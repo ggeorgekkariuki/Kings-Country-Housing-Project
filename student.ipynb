{
 "cells": [
  {
   "cell_type": "markdown",
   "metadata": {},
   "source": [
    "## Final Project Submission\n",
    "\n",
    "Please fill out:\n",
    "* Student name: \n",
    "* Student pace: self paced / part time / full time\n",
    "* Scheduled project review date/time: \n",
    "* Instructor name: \n",
    "* Blog post URL:\n"
   ]
  },
  {
   "cell_type": "markdown",
   "metadata": {},
   "source": [
    "## Business Understanding\n",
    "\n",
    "King County has witnessed a vibrant real estate market. The housing market in this county is competitive and homeowners looking to buy or sell properties frequently seek guidence from local estate agencies. One of the key services they provide is advising homeowners on how renovations can potentially increase the value of their homes before listing them on the market. However, the agency faces the challenge of accurately quantifying the impact of various renovation features on the selling price of homes in the county. To address this challenge, the agency seeks to leverage data analysis and regression modeling to provide homeowners with informed recommendations on which renovations are likely to yield the highest returns.\n",
    "\n",
    "### Business Problem: \n",
    "Having the right price for properties is important for real estate companies. It's not just about making sellers happy by getting them a good deal, but also about making buyers feel like they're getting a fair price. When a company consistently prices properties accurately, it builds trust in the community. People know they can rely on that company because they're transparent and fair.\n",
    "\n",
    "The goal in this project is to analyze the relationship between various home features and sale price of the houses in KIng County. The aim is to provide insights and advice to stakeholders in the real estate industry about how they can improve their returns on investments by focusing on the features that have the most significant impact on the sale price of the houses.\n",
    "\n",
    "### Objective\n",
    "1:\n",
    "\n",
    "To determine the relationship between the square footage of the house and the sale price of the houses in the county.\n",
    "\n",
    "2:\n",
    "\n",
    "To examine the relationship between the overall grade of the house and the sale price of the houses in a King county.\n",
    "\n",
    "3:\n",
    "\n",
    "To explore the relationship between the year built and the sale price of the houses in a King county.\n",
    "\n",
    "4:\n",
    "\n",
    "To investigate the relationship between the number of bedrooms and the sale price of the houses in a King county.\n",
    "\n",
    "\n",
    "### Goal\n",
    "This analysis will be guiding the real estate on the impact of various property attributes on their pricing structure. The analysis aims to offer a clear understanding of how property attributes collectively influence the estimated value of homes, enabling strategic decision for optimal return on investment.\n"
   ]
  },
  {
   "cell_type": "code",
   "execution_count": null,
   "metadata": {},
   "outputs": [],
   "source": []
  }
 ],
 "metadata": {
  "kernelspec": {
   "display_name": "Python 3",
   "language": "python",
   "name": "python3"
  },
  "language_info": {
   "codemirror_mode": {
    "name": "ipython",
    "version": 3
   },
   "file_extension": ".py",
   "mimetype": "text/x-python",
   "name": "python",
   "nbconvert_exporter": "python",
   "pygments_lexer": "ipython3",
   "version": "3.6.4"
  }
 },
 "nbformat": 4,
 "nbformat_minor": 2
}
