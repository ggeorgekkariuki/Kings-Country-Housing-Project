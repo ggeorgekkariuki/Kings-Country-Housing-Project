{
 "cells": [
  {
   "cell_type": "markdown",
   "metadata": {},
   "source": [
    "### IMPORTING OF LIBRARIES"
   ]
  },
  {
   "cell_type": "code",
   "execution_count": 248,
   "metadata": {},
   "outputs": [],
   "source": [
    "import pandas as pd # for reading our data\n",
    "import numpy as np  # for performing calculations\n",
    "import seaborn as sns # for visualization\n",
    "import matplotlib.pyplot as plt # for visualization\n",
    "%matplotlib inline\n",
    "\n",
    "import scipy.stats as stat # to calculate statistical operations\n",
    "\n",
    "from statsmodels.formula.api import ols #for creating a model\n",
    "\n",
    "from sklearn.model_selection import train_test_split # for performing train train_test_split on our data\n",
    "from sklearn.linear_model import LinearRegression # making a LinearRegression model\n",
    "from sklearn.metrics import mean_squared_error, r2_score # for calculating error metrics to evaluate our modeldata"
   ]
  },
  {
   "cell_type": "markdown",
   "metadata": {},
   "source": [
    "## Conclusions:\n",
    "\n",
    "**1.\tModel Performance:** The linear regression model achieved a training score of 84.44% and a test score of 81.02%. These scores indicate that the model explains about 84.44% of the variance in the training data and performs well in predicting house prices, as evidenced by the test score.\n",
    "\n",
    "**2.\tSignificant Features:** Several features have significant coefficients, indicating their importance in predicting house prices. For example, waterfront properties, excellent views, and higher grades significantly increase the house prices, while being located in certain zip codes or having poor conditions can decrease prices.\n",
    "\n",
    "**3.\tAge of the Property:** The age of the property (both built and renovated) has a significant impact on the house prices. Newer properties tend to have higher prices, while older properties may experience a decrease in value unless renovated.\n",
    "\n",
    "**4.\tLocation:** Location plays a crucial role in determining house prices. Certain zip codes have significantly higher coefficients, indicating higher prices in those areas. Buyers should consider the location carefully when making a purchase decision.\n",
    "\n",
    "## Recommendations:\n",
    "\n",
    "**1.\tFocus on Key Features:** Buyers and sellers should pay attention to key features such as waterfront views, property condition, and grade when assessing house prices. These features have significant impacts on the value of the property.\n",
    "\n",
    "**2.\tConsider Location:** Location is a critical factor in determining house prices. Buyers should consider factors such as proximity to amenities when evaluating a property. Sellers should highlight attractive aspects of the property's location in their listings.\n",
    "\n",
    "**3.\tEvaluate Property Age:** Both the age of the property and any renovations should be carefully evaluated. Buyers should inquire about the age of key components such as the roof, system, and appliances. Sellers should consider investing in renovations to increase the value of their property.\n",
    "\n",
    "**4.\tConsider number of floors:** Assess whether properties with more floors tend to command higher sale prices, controlling for other relevant factors property condition. By analyzing the relationship between the number of floors and sale prices comprehensively, we can determine whether adding floors significantly influences home prices in the King County real estate market."
   ]
  },
  {
   "cell_type": "markdown",
   "metadata": {},
   "source": [
    "### Conclusion\n",
    "\n",
    "Our analysis has clarified several important points about the King County real estate market. At first, our observations showed that the pricing data was significantly biased, with several outliers distorting the general picture. Despite this, the area's average & median prices indicate that housing is generally within the reach of middle-class families; however, there is a noticeable difference between the average cost and the highest price at which homes can be sold. We used normalization techniques to eliminate this prejudice and better reflect our clientele's preferences, focusing on removing residences that cost more than USD 1 million. With this modification, we hope to depict better the housing options available to middle-income purchasers, who comprise the bulk of our target audience.\n",
    "Additionally, our research highlighted several noteworthy correlations between pricing and other numerical independent variables. The number of bedrooms, baths, living area square footage, waterfront access, view quality, and other features showed strong relationships with home values. Notably, homes with better condition ratings, access to the waterfront, outstanding vistas, and more bedrooms tended to fetch higher prices on the market. Furthermore, our investigation on multicollinearity demonstrated how crucial it is to consider several variables at once when evaluating housing costs. While some features—like living space square footage—exhibited a high positive link with price, other features—like floors, bathrooms, and bedrooms—showed lesser correlations. All things considered, our study offers insightful information that will benefit King County real estate agents and prospective purchasers alike. It gives a detailed grasp of the variables affecting housing costs and helps make better decisions for everyone involved in the local real estate market.\n",
    "\n",
    "### Additional Recommendations:\n",
    "1. Further Exploration of Outliers: Despite the fact that we tackled outliers via normalizing the data, we hypothesized that a deeper assessment of these outliers may reveal any specific market dynamics or extraordinary features of the property that ought to be taken into account.\n",
    "2. Feature Engineering: To better deal with the subtleties of the housing market, find out what it would take to develop new features or integrate current features. Square footage may be a more reliable and consistent hint we can use along with other factors like lot size or facility accessibility when determining home prices.\n",
    "3. Market Segmentation: In order to make marketing campaigns and product offerings match with a specific customer group, these groups are created using demographic features such as family size or income level. That might lead to the better used resources and better serving buyers of different segments.\n",
    "4. Predictive Modelling: Utilize machine learning techniques and build prediction models to estimate house values based on various indicators. That then allows real estate companies to price properties based on the data and supply clients with very accurate price forecasts.\n",
    "5. Constant Monitoring: In order to keep a breakeven price plan, review market trends and update analysis. The real estate companies can stay relevant and adapt to the changing buyers' preferences by embracing a proactive approach.\n",
    "\n",
    "### Summary\n",
    "The major aim of the project was to examine the residential real-estate market of King County with a focus on prices and the derivatives of the housing market variables. The pricing data was developed to be normalized in order to provide purchasing power for middle class buyers with an earlier observation showing a clear bias and anomalies in pricing listings. During the research there have been number of relationships formed; some of which are positive linear relationships with some characteristics like the number of bedrooms, number of bathrooms, size of living rooms, the proximity to a lake and the quality of the view. I came to know that multicollinearity analysis is a necessity when looking at the prices of the property through the use of different variables. Herewith, the research done provides the much needed information to help agents of real estate and homeowners in King County make more intelligent decisions by having a broader and wider understanding of the elements that always affect house prices. The proposal aims at boosting the process of analyzing the market and standardizing the methods of promotion and pricing the property in the area.\n",
    "\n"
   ]
  },
  {
   "cell_type": "markdown",
   "metadata": {},
   "source": []
  }
 ],
 "metadata": {
  "kernelspec": {
   "display_name": "Python 3",
   "language": "python",
   "name": "python3"
  },
  "language_info": {
   "codemirror_mode": {
    "name": "ipython",
    "version": 3
   },
   "file_extension": ".py",
   "mimetype": "text/x-python",
   "name": "python",
   "nbconvert_exporter": "python",
   "pygments_lexer": "ipython3",
   "version": "3.8.5"
  }
 },
 "nbformat": 4,
 "nbformat_minor": 2
}
